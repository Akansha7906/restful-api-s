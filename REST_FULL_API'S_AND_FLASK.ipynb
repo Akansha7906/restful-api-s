{
  "nbformat": 4,
  "nbformat_minor": 0,
  "metadata": {
    "colab": {
      "provenance": []
    },
    "kernelspec": {
      "name": "python3",
      "display_name": "Python 3"
    },
    "language_info": {
      "name": "python"
    }
  },
  "cells": [
    {
      "cell_type": "markdown",
      "source": [
        "Q1  What is a RESTful API?"
      ],
      "metadata": {
        "id": "ESbgzqm0TIxY"
      }
    },
    {
      "cell_type": "markdown",
      "source": [
        "• RESTful API (Representational State Transfer API) is a web service that follows REST principles to enable communication between client and server\n",
        "\n",
        "\n",
        "• Each request from a client to the server must contain all information needed; the server does not store client context (stateless)\n",
        "\n",
        "\n",
        "• Uses HTTP methods: GET (retrieve), POST (create), PUT (update), DELETE (remove)\n",
        "\n",
        "\n",
        "\n",
        "• Everything is treated as a resource, identified by a unique URL (endpoint)\n",
        "\n",
        "\n",
        "• Typically uses JSON or XML to exchange data between client and server\n",
        "\n",
        "\n",
        "• Designed to be simple, stateless, and easily scalable for web applications\n",
        "• Follows a consistent structure (uniform interface), making it easier for developers to use"
      ],
      "metadata": {
        "id": "ugyrRGsBTt9O"
      }
    },
    {
      "cell_type": "markdown",
      "source": [
        " Q2 Explain the concept of API specification?"
      ],
      "metadata": {
        "id": "aLYYky5mUBFl"
      }
    },
    {
      "cell_type": "markdown",
      "source": [
        "• API specification is a document or blueprint that defines how an API should\n",
        "\n",
        "work, including its endpoints, methods, inputs, outputs, and error handling\n",
        "\n",
        "\n",
        "\n",
        "• It acts as a contract between the API provider and the consumer, ensuring both sides know how to interact\n",
        "\n",
        "\n",
        "• Specifies the data format (e.g., JSON, XML) and structure for requests and responses\n",
        "\n",
        "\n",
        "\n",
        "• Defines available HTTP methods (GET, POST, PUT, DELETE) for each endpoint\n",
        "\n",
        "\n",
        "• Includes authentication and authorization requirements if needed\n",
        "\n",
        "\n",
        "• Helps developers understand, implement, and test the API consistently\n",
        "\n",
        "\n",
        "\n",
        "• Examples of API specification formats include OpenAPI (Swagger), RAML, and API Blueprint."
      ],
      "metadata": {
        "id": "L4jO9oWJUMZ2"
      }
    },
    {
      "cell_type": "markdown",
      "source": [
        "Q3  What is Flask, and why is it popular for building API?"
      ],
      "metadata": {
        "id": "jDcos3L3UY3U"
      }
    },
    {
      "cell_type": "markdown",
      "source": [
        "• Flask is a lightweight and micro web framework in Python used to build web applications and APIs\n",
        "\n",
        "\n",
        "• It is simple and easy to learn, making it beginner-friendly\n",
        "\n",
        "\n",
        "• Provides flexibility to design the application structure without enforcing a specific way\n",
        "\n",
        "\n",
        "• Supports RESTful API development with minimal setup\n",
        "\n",
        "\n",
        "• Has a rich ecosystem of extensions for database, authentication, and other features\n",
        "\n",
        "\n",
        "• Lightweight and fast, ideal for small to medium-sized applications or microservices\n",
        "\n",
        "\n",
        "• Popular for building APIs because it allows quick prototyping and scalable development."
      ],
      "metadata": {
        "id": "UMIWqEJuUjTY"
      }
    },
    {
      "cell_type": "markdown",
      "source": [
        "Q4  What is routing in Flask?"
      ],
      "metadata": {
        "id": "oRuz_FZ_UpmO"
      }
    },
    {
      "cell_type": "markdown",
      "source": [
        "• Routing in Flask is the process of mapping a URL to a specific function in the application\n",
        "\n",
        "\n",
        "• It determines which function should run when a user visits a particular URL\n",
        "\n",
        "\n",
        "• Defined using the @app.route() decorator above a Python function\n",
        "\n",
        "\n",
        "• Enables handling different endpoints and HTTP methods (GET, POST, etc.)\n",
        "\n",
        "\n",
        "• Helps organize the application by associating URLs with their respective logic\n",
        "\n",
        "\n",
        "• Makes Flask applications dynamic by responding differently based on the requested route."
      ],
      "metadata": {
        "id": "vcsN1DIDUz_1"
      }
    },
    {
      "cell_type": "markdown",
      "source": [
        "Q5  How do you create a simple Flask application?\n"
      ],
      "metadata": {
        "id": "xA8nwOt4U6EP"
      }
    },
    {
      "cell_type": "markdown",
      "source": [
        "• Import Flask and create an app instance\n",
        "\n",
        "\n",
        "• Define routes using @app.route() and functions\n",
        "\n",
        "\n",
        "• Run the app with app.run()\n",
        "\n",
        "Example:\n",
        "\n",
        "from flask import Flask\n",
        "app = Flask(__name__)\n",
        "\n",
        "@app.route('/')\n",
        "def home():\n",
        "    return \"Hello, Flask!\"\n"
      ],
      "metadata": {
        "id": "T5Xg_gqUVPBf"
      }
    },
    {
      "cell_type": "markdown",
      "source": [
        "Q6  What are HTTP methods used in RESTful APIs?"
      ],
      "metadata": {
        "id": "sgIMe4LcVToW"
      }
    },
    {
      "cell_type": "markdown",
      "source": [
        "• GET – Retrieve data from the server\n",
        "\n",
        "\n",
        "• POST – Create new data on the server\n",
        "\n",
        "\n",
        "• PUT – Update existing data on the server\n",
        "\n",
        "\n",
        "• DELETE – Remove data from the server\n",
        "\n",
        "\n",
        "• PATCH – Partially update existing data on the server"
      ],
      "metadata": {
        "id": "PaasmEpYVdZm"
      }
    },
    {
      "cell_type": "markdown",
      "source": [
        "Q7 What is the purpose of the @app.route() decorator in Flask?"
      ],
      "metadata": {
        "id": "hmGgAJIOVi92"
      }
    },
    {
      "cell_type": "markdown",
      "source": [
        "• The @app.route() decorator in Flask is used to map a URL to a Python function\n",
        "\n",
        "\n",
        "• It tells Flask which function to execute when a specific URL is accessed\n",
        "\n",
        "\n",
        "• Helps define routes or endpoints for the web application or API."
      ],
      "metadata": {
        "id": "pKWpqr1wVtVn"
      }
    },
    {
      "cell_type": "markdown",
      "source": [
        "Q8  What is the difference between GET and POST HTTP methods?"
      ],
      "metadata": {
        "id": "QvdGkgWHVwSt"
      }
    },
    {
      "cell_type": "markdown",
      "source": [
        "• GET requests are used to retrieve data from the server\n",
        "\n",
        "\n",
        "• POST requests are used to send data to the server to create or update resources\n",
        "\n",
        "\n",
        "• GET parameters are sent in the URL, while POST parameters are sent in the request body\n",
        "\n",
        "\n",
        "• GET is idempotent (does not change server state), POST can modify server state\n",
        "\n",
        "\n",
        "• GET requests are cached by browsers; POST requests are not cached\n",
        "\n",
        "\n",
        "• GET requests have length limitations; POST requests can send large amounts of data\n",
        "\n",
        "\n",
        "• GET requests are visible in browser history; POST requests are hidden from URL."
      ],
      "metadata": {
        "id": "GuiT2mBnWDF-"
      }
    },
    {
      "cell_type": "markdown",
      "source": [
        "Q9  How do you handle errors in Flask API?\n"
      ],
      "metadata": {
        "id": "ppmNRTrQWJ29"
      }
    },
    {
      "cell_type": "markdown",
      "source": [
        "Use try-except blocks inside route functions to catch exceptions\n",
        "\n",
        "\n",
        "• Use Flask’s abort() function to return HTTP error codes (e.g., 404, 400)\n",
        "\n",
        "\n",
        "• Define custom error handlers with @app.errorhandler(code) to return custom responses.\n",
        "• Return JSON responses with error messages for API clients.\n",
        "\n",
        "Example:\n",
        "\n",
        "from flask import Flask, jsonify, abort\n",
        "\n",
        "app = Flask(__name__)\n",
        "\n",
        "@app.route('/item/<int:id>')\n",
        "def get_item(id):\n",
        "    try:\n",
        "        if id != 1:\n",
        "            abort(404)\n",
        "        return jsonify({\"id\": id, \"name\": \"Item 1\"})\n",
        "    except Exception as e:\n",
        "        return jsonify({\"error\": str(e)}), 500"
      ],
      "metadata": {
        "id": "Oq3VJri-WYGW"
      }
    },
    {
      "cell_type": "markdown",
      "source": [
        "Q10  How do you connect Flask to a SQL database?"
      ],
      "metadata": {
        "id": "49MbiCewWdxH"
      }
    },
    {
      "cell_type": "markdown",
      "source": [
        "• Install Flask-SQLAlchemy\n",
        "\n",
        "\n",
        "• Import Flask and SQLAlchemy, create the app instance\n",
        "\n",
        "\n",
        "• Set the database URI in app.config['SQLALCHEMY_DATABASE_URI']\n",
        "\n",
        "\n",
        "• Initialize SQLAlchemy with db = SQLAlchemy(app)\n",
        "\n",
        "\n",
        "• Define database tables as Python classes (models)\n",
        "\n",
        "\n",
        "• Use db.create_all() to create tables.\n",
        "\n",
        "Short Code:\n",
        "\n",
        "from flask import Flask\n",
        "from flask_sqlalchemy import SQLAlchemy\n",
        "\n",
        "app = Flask(__name__)\n",
        "app.config['SQLALCHEMY_DATABASE_URI'] = 'sqlite:///db.db'\n",
        "db = SQLAlchemy(app)\n",
        "\n",
        "class User(db.Model):\n",
        "    id = db.Column(db.Integer, primary_key=True)\n",
        "\n",
        "db.create_all()"
      ],
      "metadata": {
        "id": "ggRm5yRVW3Sl"
      }
    },
    {
      "cell_type": "markdown",
      "source": [
        "Q11 What is the role of Flask-SQLAlchemy?"
      ],
      "metadata": {
        "id": "FMQhfb0WW-qO"
      }
    },
    {
      "cell_type": "markdown",
      "source": [
        "• Flask-SQLAlchemy is an extension for Flask that simplifies working with SQL databases\n",
        "\n",
        "\n",
        "• Provides an Object Relational Mapper (ORM) to interact with databases using Python classes instead of raw SQL\n",
        "\n",
        "\n",
        "• Handles database connections, queries, inserts, updates, and deletes efficiently\n",
        "\n",
        "\n",
        "• Integrates smoothly with Flask, making it easier to define models, relationships, and migrations."
      ],
      "metadata": {
        "id": "hpQBTrHkXKRA"
      }
    },
    {
      "cell_type": "markdown",
      "source": [
        "Q12 What are Flask blueprints, and how are they useful?"
      ],
      "metadata": {
        "id": "oGqiLo3iXOJH"
      }
    },
    {
      "cell_type": "markdown",
      "source": [
        "• Flask blueprints are a way to organize a Flask application into modular components\n",
        "\n",
        "\n",
        "• Allow you to split routes, templates, and static files into separate files or modules\n",
        "\n",
        "\n",
        "• Useful for large applications to keep code clean and maintainable\n",
        "\n",
        "\n",
        "• Enable reusability, as the same blueprint can be registered in multiple apps\n",
        "\n",
        "\n",
        "• Make it easier to manage routes and features without cluttering the main app file."
      ],
      "metadata": {
        "id": "sTeaKXzbXZdN"
      }
    },
    {
      "cell_type": "markdown",
      "source": [
        "Q13  What is the purpose of Flask's request object?\n"
      ],
      "metadata": {
        "id": "Pj3oCZ6RXd1-"
      }
    },
    {
      "cell_type": "markdown",
      "source": [
        "• The request object in Flask is used to access data sent by the client to the server\n",
        "\n",
        "\n",
        "• Allows retrieving form data, query parameters, JSON data, and headers\n",
        "\n",
        "\n",
        "• Helps determine the HTTP method used (GET, POST, etc.)\n",
        "\n",
        "\n",
        "• Enables handling user input and controlling the behavior of routes based on request data\n",
        "\n",
        "\n",
        "• Central to building dynamic and interactive APIs in Flask."
      ],
      "metadata": {
        "id": "3XL4iBHeXnMW"
      }
    },
    {
      "cell_type": "markdown",
      "source": [
        "Q14 How do you create a RESTful API endpoint using Flask?"
      ],
      "metadata": {
        "id": "aO_ljc2BXsGn"
      }
    },
    {
      "cell_type": "markdown",
      "source": [
        "• Import Flask and create an app instance\n",
        "\n",
        "\n",
        "• Use the @app.route() decorator to define the endpoint URL\n",
        "\n",
        "\n",
        "• Specify the HTTP methods (GET, POST, etc.) with the methods parameter\n",
        "\n",
        "\n",
        "• Define a function that handles the request and returns a response (JSON or text)\n",
        "\n",
        "\n",
        "\n",
        "Example Code:\n",
        "\n",
        "from flask import Flask, jsonify\n",
        "\n",
        "app = Flask(__name__)\n",
        "\n",
        "@app.route('/api/data', methods=['GET'])\n",
        "def get_data():\n",
        "    return jsonify({\"message\": \"Hello, API!\"})\n",
        "\n",
        "app.run()"
      ],
      "metadata": {
        "id": "uCNYxHToX5ye"
      }
    },
    {
      "cell_type": "markdown",
      "source": [
        "Q15 What is the purpose of Flask's jsonify() function?"
      ],
      "metadata": {
        "id": "vleuhc5kX-9m"
      }
    },
    {
      "cell_type": "markdown",
      "source": [
        "• jsonify() in Flask is used to convert Python data (like dicts or lists) into JSON format\n",
        "\n",
        "\n",
        "• Ensures the response has the correct Content-Type header (application/json)\n",
        "\n",
        "\n",
        "• Makes it easier to send structured data from Flask APIs to clients\n",
        "\n",
        "\n",
        "• Often used to return responses in RESTful API endpoints."
      ],
      "metadata": {
        "id": "6YagzhoUYKeQ"
      }
    },
    {
      "cell_type": "markdown",
      "source": [
        "Q16 Explain Flask’s url_for() function?"
      ],
      "metadata": {
        "id": "CHMlNnTDYOcu"
      }
    },
    {
      "cell_type": "markdown",
      "source": [
        "• url_for() in Flask is used to generate URLs for routes dynamically\n",
        "\n",
        "\n",
        "• Takes the function name of the route as an argument instead of hardcoding URLs\n",
        "\n",
        "\n",
        "• Helps make the application more maintainable; URLs update automatically if routes change\n",
        "\n",
        "\n",
        "• Can also pass parameters for dynamic routes\n",
        "\n",
        "\n",
        "• Commonly used in templates and redirects\n",
        "\n",
        "\n",
        "\n",
        "Example:\n",
        "\n",
        "from flask import Flask, url_for\n",
        "\n",
        "app = Flask(__name__)\n",
        "\n",
        "@app.route('/user/<name>')\n",
        "def user(name):\n",
        "    return f\"Hello {name}\"\n",
        "\n",
        "with app.test_request_context():\n",
        "    print(url_for('user', name='Alice'))  # Output: /user/Alice"
      ],
      "metadata": {
        "id": "7egZO_f9Yg49"
      }
    },
    {
      "cell_type": "markdown",
      "source": [
        "Q17  How does Flask handle static files (CSS, JavaScript, etc.)?"
      ],
      "metadata": {
        "id": "PIgdCUVaYmUu"
      }
    },
    {
      "cell_type": "markdown",
      "source": [
        "• Flask serves static files from the static folder by default\n",
        "\n",
        "\n",
        "• Files like CSS, JavaScript, images should be placed inside the static directory\n",
        "\n",
        "\n",
        "• Access them in templates using the url_for('static', filename='path/to/file') function\n",
        "\n",
        "\n",
        "• Helps keep frontend assets organized and easily linked in HTML templates\n",
        "\n",
        "\n",
        " <link rel=\"stylesheet\" href=\"{{ url_for('static', filename='style.css') }}\">"
      ],
      "metadata": {
        "id": "v7H3l8c_Yw10"
      }
    },
    {
      "cell_type": "markdown",
      "source": [
        "Q18 What is an API specification, and how does it help in building a Flask API?"
      ],
      "metadata": {
        "id": "AUM5-wV7Y4p7"
      }
    },
    {
      "cell_type": "markdown",
      "source": [
        "• An API specification is a document or blueprint that defines how an API should work, including endpoints, request/response formats, and error handling\n",
        "\n",
        "\n",
        "• Acts as a contract between API developers and consumers, ensuring both know how to interact with the API\n",
        "\n",
        "\n",
        "• Helps developers design, implement, and test the API consistently\n",
        "\n",
        "\n",
        "• Provides clarity on data formats (JSON, XML), HTTP methods (GET, POST, etc.), and authentication requirements\n",
        "\n",
        "\n",
        "• In Flask, it guides the creation of routes, request handling, and responses, ensuring the API behaves as expected."
      ],
      "metadata": {
        "id": "XYRcGFw6ZEU-"
      }
    },
    {
      "cell_type": "markdown",
      "source": [
        "Q19  What are HTTP status codes, and why are they important in a Flask API?"
      ],
      "metadata": {
        "id": "OuK2ELbQZJft"
      }
    },
    {
      "cell_type": "markdown",
      "source": [
        "• HTTP status codes are numeric codes returned by the server to indicate the result of a client’s request\n",
        "\n",
        "\n",
        "• Common codes include 200 (OK), 201 (Created), 400 (Bad Request), 404 (Not Found), 500 (Server Error)\n",
        "\n",
        "\n",
        "• They help clients understand whether a request was successful or failed\n",
        "\n",
        "\n",
        "• In Flask APIs, returning proper status codes ensures clear communication between server and client\n",
        "\n",
        "\n",
        "• Important for error handling, debugging, and API reliability"
      ],
      "metadata": {
        "id": "jT9DLEm8ZT2W"
      }
    },
    {
      "cell_type": "markdown",
      "source": [
        "Q20 How do you handle POST requests in Flask?"
      ],
      "metadata": {
        "id": "D74Cn11LZY6G"
      }
    },
    {
      "cell_type": "markdown",
      "source": [
        "• Use the @app.route() decorator with methods=['POST'] to allow POST requests\n",
        "\n",
        "\n",
        "• Access the incoming data using request.form (for form data) or request\n",
        "\n",
        "get_json() (for JSON data)\n",
        "\n",
        "\n",
        "• Process the data and return a response (text or JSON) to the client\n",
        "\n",
        "\n",
        "\n",
        "Example Code:\n",
        "\n",
        "from flask import Flask, request, jsonify\n",
        "\n",
        "app = Flask(__name__)\n",
        "\n",
        "@app.route('/submit', methods=['POST'])\n",
        "def submit():\n",
        "    data = request.get_json()\n",
        "    return jsonify({\"received\": data})\n",
        "\n",
        "app.run()"
      ],
      "metadata": {
        "id": "uimTls_hZqum"
      }
    },
    {
      "cell_type": "markdown",
      "source": [
        "Q21  How would you secure a Flask API?"
      ],
      "metadata": {
        "id": "HjNkW7_WZw71"
      }
    },
    {
      "cell_type": "markdown",
      "source": [
        "• Use API keys or tokens to authenticate clients before allowing access\n",
        "\n",
        "\n",
        "• Implement JWT (JSON Web Tokens) for secure, stateless authentication\n",
        "\n",
        "\n",
        "• Use HTTPS to encrypt data transmitted between client and server\n",
        "\n",
        "\n",
        "• Validate and sanitize input data to prevent injection attacks\n",
        "\n",
        "\n",
        "• Implement rate limiting to prevent abuse and DoS attacks\n",
        "\n",
        "\n",
        "• Handle errors carefully to avoid exposing sensitive information\n",
        "\n",
        "\n",
        "• Keep dependencies updated to patch known security vulnerabilities."
      ],
      "metadata": {
        "id": "OuGkCjWtaJUM"
      }
    },
    {
      "cell_type": "markdown",
      "source": [
        "Q22  What is the significance of the Flask-RESTful extension?"
      ],
      "metadata": {
        "id": "CvLh0NEFaOjN"
      }
    },
    {
      "cell_type": "markdown",
      "source": [
        "• Flask-RESTful is an extension for Flask that simplifies building RESTful APIs\n",
        "\n",
        "\n",
        "• Provides Resource classes to organize API endpoints in a clean, object-oriented way\n",
        "\n",
        "\n",
        "• Handles HTTP methods (GET, POST, PUT, DELETE) for each resource automatically\n",
        "\n",
        "\n",
        "• Supports input parsing, request validation, and formatting responses easily\n",
        "\n",
        "\n",
        "• Makes Flask APIs more structured, maintainable, and scalable."
      ],
      "metadata": {
        "id": "WhDDg6pzaYuN"
      }
    },
    {
      "cell_type": "markdown",
      "source": [
        "Q23 What is the role of Flask’s session object?"
      ],
      "metadata": {
        "id": "BiktV9-3adOe"
      }
    },
    {
      "cell_type": "markdown",
      "source": [
        "The session object in Flask is used to store data specific to a user across requests\n",
        "\n",
        "\n",
        "• Allows keeping user-related information like login status, preferences, or tokens\n",
        "\n",
        "\n",
        "• Data is stored on the server-side or client-side (signed cookie) securely\n",
        "\n",
        "\n",
        "• Helps create stateful interactions in a stateless HTTP environment\n",
        "\n",
        "\n",
        "• Useful for authentication, user tracking, and personalized experiences in web applications"
      ],
      "metadata": {
        "id": "YcJX8-YQandk"
      }
    },
    {
      "cell_type": "markdown",
      "source": [
        "**PRACTICAL** **QUESTIONS**"
      ],
      "metadata": {
        "id": "ybHn8M46asxd"
      }
    },
    {
      "cell_type": "markdown",
      "source": [
        "Q1  How do you create a basic Flask application?"
      ],
      "metadata": {
        "id": "fhTwEZnhayrl"
      }
    },
    {
      "cell_type": "code",
      "source": [
        "• Import the Flask module and create an app instance.\n",
        "• Define routes using the @app.route() decorator.\n",
        "• Write functions that return responses for each route.\n",
        "• Run the application using app.run().\n",
        "\n",
        "Example Code:\n",
        "\n",
        "from flask import Flask\n",
        "\n",
        "app = Flask(__name__)\n",
        "\n",
        "@app.route('/')\n",
        "def home():\n",
        "    return \"Hello, Flask!\"\n",
        "\n",
        "app.run()"
      ],
      "metadata": {
        "id": "lbuMge27a_PU"
      },
      "execution_count": null,
      "outputs": []
    },
    {
      "cell_type": "markdown",
      "source": [
        "Q3  How do you define different routes with different HTTP methods in Flask?\n"
      ],
      "metadata": {
        "id": "h-x-hygYbRt0"
      }
    },
    {
      "cell_type": "code",
      "source": [
        "from flask import Flask, request\n",
        "\n",
        "app = Flask(__name__)\n",
        "\n",
        "@app.route('/data', methods=['GET', 'POST'])\n",
        "def handle_data():\n",
        "    if request.method == 'GET':\n",
        "        return \"This is a GET request\"\n",
        "    else:\n",
        "        return \"This is a POST request\"\n"
      ],
      "metadata": {
        "id": "a4HgGD_CbnGB"
      },
      "execution_count": null,
      "outputs": []
    },
    {
      "cell_type": "markdown",
      "source": [
        "Q4 How do you render HTML templates in Flask?"
      ],
      "metadata": {
        "id": "Q6HwncnJboeS"
      }
    },
    {
      "cell_type": "code",
      "source": [
        "from flask import Flask, render_template\n",
        "\n",
        "app = Flask(__name__)\n",
        "\n",
        "@app.route('/')\n",
        "def home():\n",
        "    return render_template('index.html', name='Alice')\n",
        "\n",
        "app.run()"
      ],
      "metadata": {
        "id": "gN0Jss4ZbyTF"
      },
      "execution_count": null,
      "outputs": []
    },
    {
      "cell_type": "markdown",
      "source": [
        "Q5  How can you generate URLs for routes in Flask using url_for?"
      ],
      "metadata": {
        "id": "SiRbKvSzbzr8"
      }
    },
    {
      "cell_type": "code",
      "source": [
        "from flask import Flask, url_for\n",
        "\n",
        "app = Flask(__name__)\n",
        "\n",
        "@app.route('/user/<name>')\n",
        "def user(name):\n",
        "    return f\"Hello {name}\"\n",
        "\n",
        "with app.test_request_context():\n",
        "    print(url_for('user', name='Alice'))  # Output: /user/AliCE"
      ],
      "metadata": {
        "id": "fjRTBlFFb-V0"
      },
      "execution_count": null,
      "outputs": []
    },
    {
      "cell_type": "markdown",
      "source": [
        "Q6 How do you handle forms in Flask?"
      ],
      "metadata": {
        "id": "2YpEurM0cAhU"
      }
    },
    {
      "cell_type": "code",
      "source": [
        "from flask import Flask, request, render_template\n",
        "\n",
        "app = Flask(__name__)\n",
        "\n",
        "@app.route('/submit', methods=['GET', 'POST'])\n",
        "def submit():\n",
        "    if request.method == 'POST':\n",
        "        name = request.form['name']\n",
        "        return f\"Hello {name}\"\n",
        "    return render_template('form.html')\n",
        "\n",
        "app.run()"
      ],
      "metadata": {
        "id": "1gIMnq2gcS4V"
      },
      "execution_count": null,
      "outputs": []
    },
    {
      "cell_type": "markdown",
      "source": [
        "Q7 How can you validate form data in Flask?"
      ],
      "metadata": {
        "id": "VeJMAmUDcUXE"
      }
    },
    {
      "cell_type": "code",
      "source": [
        "from flask import Flask, request, render_template\n",
        "\n",
        "app = Flask(__name__)\n",
        "\n",
        "@app.route('/submit', methods=['GET', 'POST'])\n",
        "def submit():\n",
        "    if request.method == 'POST':\n",
        "        name = request.form.get('name')\n",
        "        if not name:\n",
        "            return \"Name is required!\"\n",
        "        return f\"Hello {name}\"\n",
        "    return render_template('form.html')\n",
        "\n",
        "app.run()"
      ],
      "metadata": {
        "id": "QfqecRbecftU"
      },
      "execution_count": null,
      "outputs": []
    },
    {
      "cell_type": "markdown",
      "source": [
        "Q8  How do you manage sessions in Flask?"
      ],
      "metadata": {
        "id": "iQzAmb6Wchnd"
      }
    },
    {
      "cell_type": "code",
      "source": [
        "from flask import Flask, session\n",
        "\n",
        "app = Flask(__name__)\n",
        "app.secret_key = 'secret'\n",
        "\n",
        "@app.route('/set')\n",
        "def set():\n",
        "    session['user'] = 'Alice'\n",
        "    return \"Session set\"\n",
        "\n",
        "@app.route('/get')\n",
        "def get():\n",
        "    return f\"Hello {session.get('user', 'Guest')}\"\n",
        "\n",
        "app.run()"
      ],
      "metadata": {
        "id": "jib6vRhucxR2"
      },
      "execution_count": null,
      "outputs": []
    },
    {
      "cell_type": "markdown",
      "source": [
        "Q9  How do you redirect to a different route in Flask?"
      ],
      "metadata": {
        "id": "Als15jqgcyxc"
      }
    },
    {
      "cell_type": "code",
      "source": [
        "from flask import Flask, redirect, url_for\n",
        "\n",
        "app = Flask(__name__)\n",
        "\n",
        "@app.route('/')\n",
        "def home():\n",
        "    return \"Home Page\"\n",
        "\n",
        "@app.route('/go-to-home')\n",
        "def go_home():\n",
        "    return redirect(url_for('home'))\n",
        "\n",
        "app.run()"
      ],
      "metadata": {
        "id": "gPXhoe4ac9_2"
      },
      "execution_count": null,
      "outputs": []
    },
    {
      "cell_type": "markdown",
      "source": [
        "Q10 How do you handle errors in Flask (e.g., 404)?"
      ],
      "metadata": {
        "id": "gFadibxbc_ls"
      }
    },
    {
      "cell_type": "code",
      "source": [
        "from flask import Flask, render_template\n",
        "\n",
        "app = Flask(__name__)\n",
        "\n",
        "@app.errorhandler(404)\n",
        "def page_not_found(e):\n",
        "    return \"Page not found!\", 404\n",
        "\n",
        "app.run()"
      ],
      "metadata": {
        "id": "MCFbWXBWdK7W"
      },
      "execution_count": null,
      "outputs": []
    },
    {
      "cell_type": "markdown",
      "source": [
        "Q11 How do you structure a Flask app using Blueprints?"
      ],
      "metadata": {
        "id": "DupOJ7HXdMLU"
      }
    },
    {
      "cell_type": "code",
      "source": [
        "from flask import Flask, Blueprint\n",
        "\n",
        "user_bp = Blueprint('user', __name__)\n",
        "\n",
        "@user_bp.route('/profile')\n",
        "def profile():\n",
        "    return \"User Profile\"\n",
        "\n",
        "app = Flask(__name__)\n",
        "app.register_blueprint(user_bp)\n",
        "\n",
        "app.run()"
      ],
      "metadata": {
        "id": "BZF_u6v2di8u"
      },
      "execution_count": null,
      "outputs": []
    },
    {
      "cell_type": "markdown",
      "source": [
        "Q12 How do you define a custom Jinja filter in Flask?"
      ],
      "metadata": {
        "id": "AWxEIMQbdkEU"
      }
    },
    {
      "cell_type": "code",
      "source": [
        "from flask import Flask, render_template_string\n",
        "\n",
        "app = Flask(__name__)\n",
        "\n",
        "@app.template_filter()\n",
        "def reverse_string(s):\n",
        "    return s[::-1]\n",
        "\n",
        "@app.route('/')\n",
        "def home():\n",
        "    return render_template_string(\"{{ 'Hello' | reverse_string }}\")\n",
        "\n",
        "app.run()"
      ],
      "metadata": {
        "id": "BKkViZKOdvNa"
      },
      "execution_count": null,
      "outputs": []
    },
    {
      "cell_type": "markdown",
      "source": [
        "Q13  How can you redirect with query parameters in Flask?\n"
      ],
      "metadata": {
        "id": "p73NORd6dxBk"
      }
    },
    {
      "cell_type": "code",
      "source": [
        "from flask import Flask, redirect, url_for, request\n",
        "\n",
        "app = Flask(__name__)\n",
        "\n",
        "@app.route('/search')\n",
        "def search():\n",
        "    query = request.args.get('q', '')\n",
        "    return f\"Search results for: {query}\"\n",
        "\n",
        "@app.route('/go')\n",
        "def go():\n",
        "    return redirect(url_for('search', q='Flask'))\n",
        "\n",
        "app.run()"
      ],
      "metadata": {
        "id": "fJH-o0zhd9Vs"
      },
      "execution_count": null,
      "outputs": []
    },
    {
      "cell_type": "markdown",
      "source": [
        "Q14  How do you return JSON responses in Flask?"
      ],
      "metadata": {
        "id": "bC3lB1hvd_D0"
      }
    },
    {
      "cell_type": "code",
      "source": [
        "from flask import Flask, jsonify\n",
        "\n",
        "app = Flask(__name__)\n",
        "\n",
        "@app.route('/api/data')\n",
        "def data():\n",
        "    return jsonify({\"name\": \"Alice\", \"age\": 25})\n",
        "\n",
        "app.run()"
      ],
      "metadata": {
        "id": "ClC4tnRHeLcN"
      },
      "execution_count": null,
      "outputs": []
    },
    {
      "cell_type": "markdown",
      "source": [
        "Q15 How do you capture URL parameters in Flask?"
      ],
      "metadata": {
        "id": "ZBMtiNwweP99"
      }
    },
    {
      "cell_type": "code",
      "source": [
        "from flask import Flask\n",
        "\n",
        "app = Flask(__name__)\n",
        "\n",
        "@app.route('/user/<name>')\n",
        "def user(name):\n",
        "    return f\"Hello, {name}!\"\n",
        "\n",
        "app.run()"
      ],
      "metadata": {
        "id": "6zipG90AeZm4"
      },
      "execution_count": null,
      "outputs": []
    },
    {
      "cell_type": "code",
      "source": [],
      "metadata": {
        "id": "A8f3ioTneToi"
      },
      "execution_count": null,
      "outputs": []
    },
    {
      "cell_type": "code",
      "source": [],
      "metadata": {
        "id": "OgqL-YAkUi3W"
      },
      "execution_count": null,
      "outputs": []
    },
    {
      "cell_type": "markdown",
      "source": [],
      "metadata": {
        "id": "Dgln5TTzTIDQ"
      }
    },
    {
      "cell_type": "code",
      "execution_count": null,
      "metadata": {
        "id": "hYsJpv0IStv6"
      },
      "outputs": [],
      "source": []
    },
    {
      "cell_type": "code",
      "source": [],
      "metadata": {
        "id": "5Nmk26X-S4ly"
      },
      "execution_count": null,
      "outputs": []
    },
    {
      "cell_type": "code",
      "source": [],
      "metadata": {
        "id": "R9S94RjuS4pX"
      },
      "execution_count": null,
      "outputs": []
    },
    {
      "cell_type": "code",
      "source": [],
      "metadata": {
        "id": "LConDRZeS4tx"
      },
      "execution_count": null,
      "outputs": []
    },
    {
      "cell_type": "code",
      "source": [],
      "metadata": {
        "id": "cMCzKZhKS4zp"
      },
      "execution_count": null,
      "outputs": []
    },
    {
      "cell_type": "code",
      "source": [],
      "metadata": {
        "id": "7Q-CqPlbS44_"
      },
      "execution_count": null,
      "outputs": []
    },
    {
      "cell_type": "code",
      "source": [],
      "metadata": {
        "id": "jiHvQO69S48A"
      },
      "execution_count": null,
      "outputs": []
    },
    {
      "cell_type": "code",
      "source": [],
      "metadata": {
        "id": "Nsn9twByS4_J"
      },
      "execution_count": null,
      "outputs": []
    },
    {
      "cell_type": "code",
      "source": [],
      "metadata": {
        "id": "UKZjc8JOS5CX"
      },
      "execution_count": null,
      "outputs": []
    },
    {
      "cell_type": "code",
      "source": [],
      "metadata": {
        "id": "E0WZxaA-S5Fb"
      },
      "execution_count": null,
      "outputs": []
    },
    {
      "cell_type": "code",
      "source": [],
      "metadata": {
        "id": "rGDOPTFES5Ia"
      },
      "execution_count": null,
      "outputs": []
    },
    {
      "cell_type": "code",
      "source": [],
      "metadata": {
        "id": "65crjgQmS5Le"
      },
      "execution_count": null,
      "outputs": []
    },
    {
      "cell_type": "code",
      "source": [],
      "metadata": {
        "id": "o-PAn_3YS5Oz"
      },
      "execution_count": null,
      "outputs": []
    },
    {
      "cell_type": "code",
      "source": [],
      "metadata": {
        "id": "uoQ3m19GS5Ru"
      },
      "execution_count": null,
      "outputs": []
    },
    {
      "cell_type": "code",
      "source": [],
      "metadata": {
        "id": "4Vhw0PI4S5Uq"
      },
      "execution_count": null,
      "outputs": []
    },
    {
      "cell_type": "code",
      "source": [],
      "metadata": {
        "id": "uiU68pYeS5X0"
      },
      "execution_count": null,
      "outputs": []
    },
    {
      "cell_type": "code",
      "source": [],
      "metadata": {
        "id": "a9Se4rU0S5az"
      },
      "execution_count": null,
      "outputs": []
    },
    {
      "cell_type": "code",
      "source": [],
      "metadata": {
        "id": "Sg73cwDdS5eC"
      },
      "execution_count": null,
      "outputs": []
    },
    {
      "cell_type": "code",
      "source": [],
      "metadata": {
        "id": "Y0ega2NIS5kA"
      },
      "execution_count": null,
      "outputs": []
    },
    {
      "cell_type": "code",
      "source": [],
      "metadata": {
        "id": "jcaDK5ZoS5l9"
      },
      "execution_count": null,
      "outputs": []
    },
    {
      "cell_type": "code",
      "source": [],
      "metadata": {
        "id": "fdYoIbyjS5xH"
      },
      "execution_count": null,
      "outputs": []
    },
    {
      "cell_type": "code",
      "source": [],
      "metadata": {
        "id": "e1VMTOm2S53h"
      },
      "execution_count": null,
      "outputs": []
    },
    {
      "cell_type": "code",
      "source": [],
      "metadata": {
        "id": "6OVpz0cIS56o"
      },
      "execution_count": null,
      "outputs": []
    },
    {
      "cell_type": "code",
      "source": [],
      "metadata": {
        "id": "J0RYOPwDS594"
      },
      "execution_count": null,
      "outputs": []
    },
    {
      "cell_type": "code",
      "source": [],
      "metadata": {
        "id": "crhAwdaVS6BC"
      },
      "execution_count": null,
      "outputs": []
    },
    {
      "cell_type": "code",
      "source": [],
      "metadata": {
        "id": "jHaORJ8wS6EF"
      },
      "execution_count": null,
      "outputs": []
    },
    {
      "cell_type": "code",
      "source": [],
      "metadata": {
        "id": "WsZtPvPHS6HA"
      },
      "execution_count": null,
      "outputs": []
    },
    {
      "cell_type": "code",
      "source": [],
      "metadata": {
        "id": "zOGSz-sxS6KK"
      },
      "execution_count": null,
      "outputs": []
    },
    {
      "cell_type": "code",
      "source": [],
      "metadata": {
        "id": "QEgqddWRS6aX"
      },
      "execution_count": null,
      "outputs": []
    },
    {
      "cell_type": "code",
      "source": [],
      "metadata": {
        "id": "UmxFTvKKS6dv"
      },
      "execution_count": null,
      "outputs": []
    },
    {
      "cell_type": "code",
      "source": [],
      "metadata": {
        "id": "ZQUqDKKtS6hI"
      },
      "execution_count": null,
      "outputs": []
    },
    {
      "cell_type": "code",
      "source": [],
      "metadata": {
        "id": "sYXfyWB1S6j8"
      },
      "execution_count": null,
      "outputs": []
    },
    {
      "cell_type": "code",
      "source": [],
      "metadata": {
        "id": "zRoaPd6CS6nH"
      },
      "execution_count": null,
      "outputs": []
    },
    {
      "cell_type": "code",
      "source": [],
      "metadata": {
        "id": "Ws4EQNumS7Ev"
      },
      "execution_count": null,
      "outputs": []
    },
    {
      "cell_type": "code",
      "source": [],
      "metadata": {
        "id": "yfCkqekKS7Iz"
      },
      "execution_count": null,
      "outputs": []
    },
    {
      "cell_type": "code",
      "source": [],
      "metadata": {
        "id": "rw7ccHp3S7MK"
      },
      "execution_count": null,
      "outputs": []
    },
    {
      "cell_type": "code",
      "source": [],
      "metadata": {
        "id": "iDS_6ZasS7y3"
      },
      "execution_count": null,
      "outputs": []
    },
    {
      "cell_type": "code",
      "source": [],
      "metadata": {
        "id": "7el7L1yoS72P"
      },
      "execution_count": null,
      "outputs": []
    },
    {
      "cell_type": "code",
      "source": [],
      "metadata": {
        "id": "QVm1c-yLS75K"
      },
      "execution_count": null,
      "outputs": []
    },
    {
      "cell_type": "code",
      "source": [],
      "metadata": {
        "id": "y8TlGjAYS78Z"
      },
      "execution_count": null,
      "outputs": []
    },
    {
      "cell_type": "code",
      "source": [],
      "metadata": {
        "id": "UT3zgJ-lS7_f"
      },
      "execution_count": null,
      "outputs": []
    },
    {
      "cell_type": "code",
      "source": [],
      "metadata": {
        "id": "zrxMXHFpS8CT"
      },
      "execution_count": null,
      "outputs": []
    },
    {
      "cell_type": "code",
      "source": [],
      "metadata": {
        "id": "zrpxOdqYS824"
      },
      "execution_count": null,
      "outputs": []
    },
    {
      "cell_type": "code",
      "source": [],
      "metadata": {
        "id": "3GeEtJv8S8_C"
      },
      "execution_count": null,
      "outputs": []
    },
    {
      "cell_type": "code",
      "source": [],
      "metadata": {
        "id": "5WxDN1BNS9BH"
      },
      "execution_count": null,
      "outputs": []
    },
    {
      "cell_type": "code",
      "source": [],
      "metadata": {
        "id": "cNqeYtkGS9DV"
      },
      "execution_count": null,
      "outputs": []
    },
    {
      "cell_type": "code",
      "source": [],
      "metadata": {
        "id": "odOx3SV3S9Fn"
      },
      "execution_count": null,
      "outputs": []
    },
    {
      "cell_type": "code",
      "source": [],
      "metadata": {
        "id": "GpP8IPOyS9H0"
      },
      "execution_count": null,
      "outputs": []
    }
  ]
}